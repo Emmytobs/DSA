{
 "cells": [
  {
   "cell_type": "code",
   "execution_count": null,
   "metadata": {},
   "outputs": [],
   "source": [
    "\"\"\"\n",
    "Find the first and last position of an element in a list using Binary Search\n",
    "\"\"\""
   ]
  },
  {
   "cell_type": "code",
   "execution_count": null,
   "metadata": {},
   "outputs": [
    {
     "name": "stdout",
     "output_type": "stream",
     "text": [
      "Rightmost position of TARGET:  7\n",
      "Note: Here the rightmost position is the first position after the rightmost occurence of target, 8. This is similar to how Python's bisect() below\n",
      "\n",
      "Leftmost position of TARGET:  7\n"
     ]
    }
   ],
   "source": [
    "\n",
    "# initializing list\n",
    "li = [1, 3, 4, 4, 4, 6, 7]\n",
    "TARGET = 4\n",
    "\n",
    "\"\"\"\n",
    "Using this implementation, when finding the rightmost element, we increment the target by 1\n",
    "Also note: the right pointer is set to the length of the list - not len(list) - 1\n",
    "\"\"\"\n",
    "def binary_search(arr, _target, right=True): \n",
    "  l, r = 0, len(arr)\n",
    "  target = _target + 1 if right else _target\n",
    "  while l < r:\n",
    "    mid = (l + r)//2\n",
    "    if arr[mid] < target:\n",
    "      l = mid + 1\n",
    "    else:\n",
    "      r = mid\n",
    "  return l\n",
    "\n",
    "\"\"\"\n",
    "  Longer implementation:\n",
    "\"\"\"\n",
    "def binary_search_long(arr, target, right=True):\n",
    "  l, r = 0, len(arr)\n",
    "  while l < r:\n",
    "    mid = (l + r)//2\n",
    "    if arr[mid] < target:\n",
    "      l = mid + 1\n",
    "    elif arr[mid] > target:\n",
    "      r = mid\n",
    "    else:\n",
    "      if right:\n",
    "        l = mid + 1\n",
    "      else:\n",
    "        r = mid\n",
    "  return l if right else r\n",
    "    \n",
    "rightmost_position = binary_search(li, TARGET)\n",
    "leftmost_position = binary_search(li, TARGET, False)\n",
    "\n",
    "print('Rightmost position of TARGET: ', rightmost_position, end='\\n')\n",
    "print(f\"Note: Here the rightmost position is the first position after the rightmost occurence of target, {TARGET}. This is similar to how Python's bisect() below\", end=\"\\n\\n\")\n",
    "print('Leftmost position of TARGET: ', leftmost_position)"
   ]
  },
  {
   "cell_type": "code",
   "execution_count": 15,
   "metadata": {},
   "outputs": [
    {
     "name": "stdout",
     "output_type": "stream",
     "text": [
      "Rightmost index to insert, so list remains sorted is : 5\n",
      "Leftmost index to insert, so list remains sorted is : 2\n"
     ]
    }
   ],
   "source": [
    "# Using Python's bisect module to solve the problem above\n",
    "\n",
    "import bisect\n",
    " \n",
    "# using bisect() to find index to insert new element\n",
    "# returns 5 ( right most possible index )\n",
    "print (\"Rightmost index to insert, so list remains sorted is : \",\n",
    "       end=\"\")\n",
    "print (bisect.bisect(li, TARGET))\n",
    " \n",
    "# using bisect_left() to find index to insert new element\n",
    "# returns 2 ( left most possible index )\n",
    "print (\"Leftmost index to insert, so list remains sorted is : \", \n",
    "       end=\"\")\n",
    "print (bisect.bisect_left(li, TARGET))"
   ]
  }
 ],
 "metadata": {
  "kernelspec": {
   "display_name": "Python 3",
   "language": "python",
   "name": "python3"
  },
  "language_info": {
   "codemirror_mode": {
    "name": "ipython",
    "version": 3
   },
   "file_extension": ".py",
   "mimetype": "text/x-python",
   "name": "python",
   "nbconvert_exporter": "python",
   "pygments_lexer": "ipython3",
   "version": "3.10.7"
  }
 },
 "nbformat": 4,
 "nbformat_minor": 2
}
