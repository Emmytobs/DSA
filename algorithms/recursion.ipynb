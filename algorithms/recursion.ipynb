{
 "cells": [
  {
   "cell_type": "code",
   "execution_count": null,
   "metadata": {},
   "outputs": [
    {
     "name": "stdout",
     "output_type": "stream",
     "text": [
      "entering: 5\n",
      "entering: 4\n",
      "entering: 3\n",
      "entering: 2\n",
      "entering: 1\n",
      "exiting: 1\n",
      "exiting: 2\n",
      "exiting: 3\n",
      "exiting: 4\n",
      "exiting: 5\n"
     ]
    }
   ],
   "source": [
    "def count(n):\n",
    "  if n == 0:\n",
    "    return\n",
    "  print(f\"entering: {n}\") \n",
    "  count(n - 1)\n",
    "  print(f\"exiting: {n}\") # Code below the recursive call runs after the base case is hit for each prev recursive call\n",
    "count(5)"
   ]
  },
  {
   "cell_type": "code",
   "execution_count": null,
   "metadata": {},
   "outputs": [
    {
     "name": "stdout",
     "output_type": "stream",
     "text": [
      "5\n",
      "2\n",
      "9\n",
      "10\n",
      "26\n"
     ]
    }
   ],
   "source": [
    "nums = [5,2,9,10]\n",
    "\n",
    "def recursive_sum(i=0):\n",
    "  # The base case alwways captures the smallest subproblem, which in this case is an empty array\n",
    "  if i >= len(nums):\n",
    "    return 0\n",
    "  return nums[i] + recursive_sum(i + 1)\n",
    "result = recursive_sum()\n",
    "print(result)"
   ]
  }
 ],
 "metadata": {
  "kernelspec": {
   "display_name": "Python 3",
   "language": "python",
   "name": "python3"
  },
  "language_info": {
   "codemirror_mode": {
    "name": "ipython",
    "version": 3
   },
   "file_extension": ".py",
   "mimetype": "text/x-python",
   "name": "python",
   "nbconvert_exporter": "python",
   "pygments_lexer": "ipython3",
   "version": "3.10.7"
  }
 },
 "nbformat": 4,
 "nbformat_minor": 2
}
