{
 "cells": [
  {
   "cell_type": "markdown",
   "metadata": {},
   "source": [
    "\n",
    "# Time Complexity Analysis of DP (recursive):\n",
    "\n",
    "### Without memoization/pruning the recursive tree, it's basically just DFS:\n",
    "TC: O(b ^ m) <br>\n",
    "SC: O(m)\n",
    "\n",
    "### With memoization, we can improve the time:\n",
    "TC: O(b * m) <br>\n",
    "SC: O(m)\n",
    "\n",
    "where b = 'branching factor', which is the max number of branches for any given node in the recursive tree\n",
    "and m = max depth of any subtree in the recursive tree\n"
   ]
  },
  {
   "cell_type": "code",
   "execution_count": null,
   "metadata": {},
   "outputs": [
    {
     "data": {
      "text/plain": [
       "832040"
      ]
     },
     "execution_count": 20,
     "metadata": {},
     "output_type": "execute_result"
    }
   ],
   "source": [
    "\"\"\"\n",
    "Fibonacci\n",
    "\n",
    "Recurrence relation: fib(n) = fib(n - 1) + fib(n - 2)\n",
    "Base case: n == 0 or n == 1\n",
    "\"\"\"\n",
    "def fibonacci(n):\n",
    "  memo = {}\n",
    "  def fib(n, memo):\n",
    "    if n == 0 or n == 1:\n",
    "      return n\n",
    "    if n in memo:\n",
    "      return memo[n]\n",
    "    memo[n] = fib(n - 1, memo) + fib(n - 2, memo)\n",
    "    return memo[n]\n",
    "  return fib(n, memo)\n",
    "fibonacci(30)"
   ]
  },
  {
   "cell_type": "markdown",
   "metadata": {},
   "source": [
    "\n",
    "For the fibonacci function above, don't do this:\n",
    "> memo[n - 1] = fib(n - 1, memo) <br>\n",
    "> memo[n - 2] = fib(n - 2, memo)\n",
    "\n",
    "Also, notice that the memoization simply involves two steps:\n",
    "1. Storing the exact return statement of the recursive function, fib, in the hash table. We use `memo[n] = fib(n - 1, memo) + fib(n - 2, memo)` instead of `return fib(n - 1, memo) + fib(n - 2, memo)`\n",
    "2. Checking if the recursive input has already been memoized and returning it's value before the recursive call.\n",
    "\n",
    "Similar steps are used for the example problems that follow."
   ]
  },
  {
   "cell_type": "code",
   "execution_count": 1,
   "metadata": {},
   "outputs": [
    {
     "data": {
      "text/plain": [
       "4"
      ]
     },
     "execution_count": 1,
     "metadata": {},
     "output_type": "execute_result"
    }
   ],
   "source": [
    "\"\"\"\n",
    "Tribonacci\n",
    "\n",
    "Recurrence relation: trib(n) = trib(n - 1) + trib(n - 2) + trib(n - 3)\n",
    "Base case: n == 0 or n == 1 or n == 2\n",
    "\"\"\"\n",
    "def tribonacci(n):\n",
    "  memo = {}\n",
    "  def trib(n, memo):\n",
    "    if n == 0 or n == 1:\n",
    "      return 0\n",
    "    if n == 2:\n",
    "      return 1\n",
    "    if n in memo:\n",
    "      return memo[n]\n",
    "    memo[n] = trib(n - 1, memo) + trib(n - 2, memo) + trib(n - 3, memo)\n",
    "    return memo[n]\n",
    "  return trib(n, memo)\n",
    "tribonacci(5)"
   ]
  },
  {
   "cell_type": "markdown",
   "metadata": {},
   "source": [
    "## Strategy for solving Dynamic Programming problems\n",
    "\n",
    "1. Try to work out a recurrence relation. <br>\n",
    "  a. Note: For the two steps above, I highly recommend that you draw a partial recursive tree to understand it better. <br>\n",
    "  b. If you can overlapping/repeated subproblems in the recursive tree, then you know it's a DP problem\n",
    "2. Try to shrink the inputs to see if you can also work out a base case for the problem.\n",
    "3. Implement the DP solution first, without memoization\n",
    "4. Once small input-sized test cases are passing, implement memoization to handle large inputs."
   ]
  },
  {
   "cell_type": "markdown",
   "metadata": {},
   "source": [
    "## Sample Question:\n",
    "\n",
    "### Sum Possible <br>\n",
    "Write a function sum_possible that takes in an amount, and a list of positive numbers. The function should return a boolean indicating whether or not it is possible to create the amount by summing numbers of the list. You may reuse numbers of the list as many times as necessary.\n",
    "\n",
    "## Recursive tree for inputs: 4, [1, 2, 3]\n",
    "# ![Image](image.png)"
   ]
  },
  {
   "cell_type": "code",
   "execution_count": 1,
   "metadata": {},
   "outputs": [
    {
     "name": "stdout",
     "output_type": "stream",
     "text": [
      "amount: 0, nums: [] => result: True\n",
      "amount: 4, nums: [1, 2, 3] => result: True\n",
      "amount: 15, nums: [6, 2, 10, 19] => result: False\n",
      "amount: 13, nums: [6, 2, 1] => result: True\n",
      "amount: 103, nums: [6, 20, 1] => result: True\n",
      "amount: 2017, nums: [4, 2, 10] => result: False\n"
     ]
    }
   ],
   "source": [
    "from typing import List, Dict\n",
    "\n",
    "def sum_possible(amount: int, nums: List[int]) -> bool:\n",
    "  \"\"\"\n",
    "  Say we're given inputs: 4, [1,2,3]\n",
    "  Recurrence relation:\n",
    "  Starting with amount, t, subtract all numbers, n, in the list where n <= t\n",
    "        4\n",
    "      / | \\\n",
    "      1 2 3\n",
    "          | \\ \\\n",
    "          1 2 3\n",
    "  TC: O(len(amount) * len(nums)), since nums determines the branching factor of the recursive tree\n",
    "  SC: O(len(amount)), since amount determines the max depth of the recursive tree\n",
    "  \"\"\"\n",
    "  memo = {}\n",
    "  def _sum_possible(amount: int, nums: List[int], memo: Dict[int, int]):\n",
    "    BASE_CASE = 0\n",
    "    if amount == BASE_CASE:\n",
    "      return True\n",
    "    \n",
    "    if amount in memo:\n",
    "      return memo[amount]\n",
    "    \n",
    "    for num in nums:\n",
    "      if num <= amount:\n",
    "        memo[amount] = _sum_possible(amount - num, nums, memo)\n",
    "        if memo[amount] == True:\n",
    "          return True\n",
    "    return False\n",
    "  return _sum_possible(amount, nums, memo)\n",
    "\n",
    "test_cases = [\n",
    "  (0, []), # True\n",
    "  (4, [1, 2, 3]), # True\n",
    "  (15, [6, 2, 10, 19]), # False\n",
    "  (13, [6, 2, 1]), # True\n",
    "  (103, [6, 20, 1]), # True\n",
    "  (2017, [4, 2, 10]), # False (times-out without memoization)\n",
    "]\n",
    "for amount, nums in test_cases:\n",
    "  result = sum_possible(amount, nums)\n",
    "  print(f\"amount: {amount}, nums: {nums} => result: {result}\")"
   ]
  },
  {
   "cell_type": "markdown",
   "metadata": {},
   "source": [
    "## Sample Questions\n",
    "\n",
    "### Minimum Change <br>\n",
    "Write a function min_change that takes in an amount and a list of coins. The function should return the minimum number of coins required to create the amount. You may use each coin as many times as necessary.\n",
    "If it is not possible to create the amount, then return -1."
   ]
  },
  {
   "cell_type": "code",
   "execution_count": null,
   "metadata": {},
   "outputs": [
    {
     "name": "stdout",
     "output_type": "stream",
     "text": [
      "amount: 0, nums: [] => result: 0\n",
      "113 μs ± 0 ns per loop (mean ± std. dev. of 1 run, 1 loop each)\n",
      "amount: 4, nums: [1, 2, 3] => result: 2\n",
      "25.3 μs ± 0 ns per loop (mean ± std. dev. of 1 run, 1 loop each)\n",
      "amount: 15, nums: [6, 2, 10, 19] => result: 2\n",
      "18.4 μs ± 0 ns per loop (mean ± std. dev. of 1 run, 1 loop each)\n",
      "amount: 13, nums: [6, 2, 1] => result: 3\n",
      "19.3 μs ± 0 ns per loop (mean ± std. dev. of 1 run, 1 loop each)\n",
      "amount: 103, nums: [6, 20, 1] => result: 8\n",
      "107 μs ± 0 ns per loop (mean ± std. dev. of 1 run, 1 loop each)\n",
      "amount: 2017, nums: [4, 2, 10] => result: 202\n",
      "1.36 ms ± 0 ns per loop (mean ± std. dev. of 1 run, 1 loop each)\n"
     ]
    }
   ],
   "source": [
    "from typing import List, Dict\n",
    "\n",
    "def minimum_change(amount: int, coins: List[int]) -> bool:\n",
    "  \"\"\"\n",
    "  Say we're given inputs: 4, [1,2,3]\n",
    "  Recurrence relation:\n",
    "  Starting with amount, t, subtract all numbers, n, in the list where n <= t\n",
    "        4\n",
    "      / | \\\n",
    "      1 2 3\n",
    "          | \\ \\\n",
    "          1 2 3\n",
    "  TC: O(len(amount) * len(coins)), since nums determines the branching factor of the recursive tree\n",
    "  SC: O(len(amount)), since amount determines the max depth of the recursive tree\n",
    "  \"\"\"\n",
    "  def _minimum_change(amount: int, coins: List[int], memo: Dict[int, int]):\n",
    "    BASE_CASE = 0\n",
    "    if amount == BASE_CASE:\n",
    "      return 0\n",
    "    \n",
    "    if amount in memo:\n",
    "      return memo[amount]\n",
    "    \n",
    "    min_coins = float('inf')\n",
    "    for coin in coins:\n",
    "      if coin <= amount:\n",
    "        result = 1 + _minimum_change(amount - coin, coins, memo)\n",
    "        min_coins = min(min_coins, result)\n",
    "        memo[amount] = min_coins\n",
    "    if min_coins == float('inf'):\n",
    "      return -1\n",
    "    return min_coins\n",
    "  return _minimum_change(amount, coins, {})\n",
    "\n",
    "test_cases = [\n",
    "  (0, []), # 0\n",
    "  (4, [1, 2, 3]), # 2\n",
    "  (15, [6, 2, 10, 19]), # 2\n",
    "  (13, [6, 2, 1]), # 3\n",
    "  (103, [6, 20, 1]), # 8\n",
    "  (2017, [4, 2, 10]), # 202 (times-out without memoization)\n",
    "]\n",
    "for amount, nums in test_cases:\n",
    "  # For fun: use ipython's %timeit magic function to compare the execution times with and without memoization\n",
    "  %timeit -r 1 -n 1 print(f\"amount: {amount}, nums: {nums} => result: {minimum_change(amount, nums)}\")"
   ]
  },
  {
   "cell_type": "markdown",
   "metadata": {},
   "source": [
    "### Count Paths <br>\n",
    "\n",
    "Write a function, count_paths, that takes in a grid as an argument. In the grid, 'X' represents walls and 'O' represents open spaces. You may only move down or to the right and cannot pass through walls. The function should return the number of ways possible to travel from the top-left corner of the grid to the bottom-right corner.\n",
    "\n",
    "![image.png](count-paths.png)"
   ]
  },
  {
   "cell_type": "code",
   "execution_count": 17,
   "metadata": {},
   "outputs": [
    {
     "name": "stdout",
     "output_type": "stream",
     "text": [
      "grid: [['O', 'O'], ['O', 'O']] => result: 2\n",
      "grid: [['O', 'O', 'X'], ['O', 'O', 'O'], ['O', 'O', 'O']] => result: 5\n",
      "grid: [['O', 'O', 'O'], ['O', 'O', 'X'], ['O', 'O', 'O']] => result: 3\n",
      "grid: [['O', 'O', 'X', 'O', 'O', 'O'], ['O', 'O', 'O', 'O', 'O', 'X'], ['X', 'O', 'O', 'O', 'O', 'O'], ['X', 'X', 'X', 'O', 'O', 'O'], ['O', 'O', 'O', 'O', 'O', 'X']] => result: 0\n"
     ]
    }
   ],
   "source": [
    "from typing import List, Dict\n",
    "\n",
    "def count_paths(grid: List[List[int]]):\n",
    "  ROWS, COLS = len(grid), len(grid[0])\n",
    "  directions = [(1, 0), (0, 1)] # down and right\n",
    "  destination = (ROWS - 1, COLS - 1)\n",
    "\n",
    "  def _count_paths(grid: List[List[int]], cell: tuple[int, int], memo: Dict[tuple, int]):\n",
    "    if cell == destination:\n",
    "      return 1\n",
    "    \n",
    "    if cell in memo:\n",
    "      return memo[cell]\n",
    "\n",
    "    no_of_paths = 0\n",
    "    for d in directions:\n",
    "      row = d[0] + cell[0]\n",
    "      col = d[1] + cell[1]\n",
    "      if (0 <= row < ROWS and 0 <= col < COLS and grid[row][col] == 'O'):\n",
    "        no_of_paths += _count_paths(grid, (row, col), memo)\n",
    "        memo[cell] = no_of_paths\n",
    "    return no_of_paths\n",
    "  return _count_paths(grid, (0,0), {})\n",
    "\n",
    "# NOTE: Each test case represents a 2D grid. It's been flattened to keep it on a single line.\n",
    "test_cases = [\n",
    "  [[\"O\", \"O\"],[\"O\", \"O\"]], # 2\n",
    "  [[\"O\", \"O\", \"X\"],[\"O\", \"O\", \"O\"],[\"O\", \"O\", \"O\"]], # 5\n",
    "  [[\"O\", \"O\", \"O\"],[\"O\", \"O\", \"X\"],[\"O\", \"O\", \"O\"]], # 3\n",
    "  [\n",
    "    [\"O\", \"O\", \"X\", \"O\", \"O\", \"O\"],\n",
    "    [\"O\", \"O\", \"O\", \"O\", \"O\", \"X\"],\n",
    "    [\"X\", \"O\", \"O\", \"O\", \"O\", \"O\"],\n",
    "    [\"X\", \"X\", \"X\", \"O\", \"O\", \"O\"],\n",
    "    [\"O\", \"O\", \"O\", \"O\", \"O\", \"X\"],\n",
    "  ] # 0\n",
    "]\n",
    "\n",
    "for grid in test_cases:\n",
    "  result = count_paths(grid)\n",
    "  print(f\"grid: {grid} => result: {result}\")"
   ]
  },
  {
   "cell_type": "markdown",
   "metadata": {},
   "source": [
    "### Max Path Sum\n",
    "\n",
    "Write a function, max_path_sum, that takes in a grid as an argument. The function should return the maximum sum possible by traveling a path from the top-left corner to the bottom-right corner. You may only travel through the grid by moving down or right. <br>\n",
    "\n",
    "You can assume that all numbers are non-negative."
   ]
  },
  {
   "cell_type": "code",
   "execution_count": null,
   "metadata": {},
   "outputs": [
    {
     "name": "stdout",
     "output_type": "stream",
     "text": [
      "grid: [[1, 3, 12], [5, 1, 1], [3, 6, 1]] => result: 18\n",
      "grid: [[1, 2, 8, 1], [3, 1, 12, 10], [4, 0, 6, 3]] => result: 36\n",
      "grid: [[1, 2, 8, 1], [3, 10, 12, 10], [4, 0, 6, 3]] => result: 39\n",
      "grid: [[1, 1, 3, 1, 1, 1, 1, 4, 1, 1, 1, 1, 1], [1, 1, 1, 1, 1, 1, 1, 1, 1, 1, 1, 1, 1], [1, 2, 1, 1, 6, 1, 1, 5, 1, 1, 0, 0, 1], [1, 1, 1, 1, 1, 1, 1, 1, 1, 1, 1, 1, 1], [1, 1, 1, 5, 1, 1, 1, 1, 0, 1, 1, 1, 1], [2, 1, 1, 1, 1, 1, 1, 1, 1, 1, 1, 1, 1], [2, 1, 1, 1, 1, 8, 1, 1, 1, 1, 1, 1, 1], [2, 1, 3, 1, 1, 1, 1, 1, 1, 1, 1, 1, 1], [1, 1, 1, 1, 1, 1, 1, 1, 1, 1, 1, 1, 1], [1, 1, 1, 1, 1, 1, 1, 9, 1, 1, 1, 1, 1], [1, 1, 1, 1, 1, 1, 1, 1, 1, 1, 1, 1, 1], [1, 1, 1, 3, 1, 1, 1, 1, 1, 1, 1, 1, 1], [1, 1, 1, 1, 1, 1, 1, 1, 1, 8, 1, 1, 1], [1, 1, 1, 1, 1, 1, 1, 1, 1, 1, 1, 1, 1], [1, 1, 1, 1, 1, 1, 1, 1, 1, 1, 1, 1, 1], [1, 1, 1, 3, 1, 1, 1, 1, 1, 1, 1, 1, 1], [1, 42, 1, 1, 1, 1, 1, 1, 1, 8, 1, 1, 1], [1, 1, 1, 1, 1, 1, 1, 1, 1, 1, 1, 1, 1], [1, 1, 1, 1, 1, 1, 1, 1, 1, 1, 1, 1, 1]] => result: 82\n"
     ]
    }
   ],
   "source": [
    "from typing import List, Dict\n",
    "\n",
    "def max_path_sum(grid: List[List[int]]):\n",
    "  ROWS, COLS = len(grid), len(grid[0])\n",
    "  directions = [(1, 0), (0, 1)] # down and right directions\n",
    "  destination = (ROWS - 1, COLS - 1)\n",
    "\n",
    "  def _max_path_sum(grid: List[List[int]], cell: tuple[int, int], memo: Dict[tuple[int, int], int]):\n",
    "    if cell == destination:\n",
    "      r, c = cell\n",
    "      return grid[r][c]\n",
    "\n",
    "    if cell in memo:\n",
    "      return memo[cell]\n",
    "    \n",
    "    max_path = float(\"-inf\")\n",
    "    for d in directions:\n",
    "      row = d[0] + cell[0]\n",
    "      col = d[1] + cell[1]\n",
    "      if 0 <= row < ROWS and 0 <= col < COLS:\n",
    "        # Careful here: Be sure to not pass in the empty object in the initial call, but the memo object from the recursive function's parameters\n",
    "        result = _max_path_sum(grid, (row, col), memo)\n",
    "        max_path = max(max_path, result)\n",
    "    r, c = cell\n",
    "    memo[cell] = grid[r][c] + max_path\n",
    "    return memo[cell]\n",
    "  return _max_path_sum(grid, (0, 0), {})\n",
    "\n",
    "test_cases = [\n",
    "  [\n",
    "    [1, 3, 12],\n",
    "    [5, 1, 1],\n",
    "    [3, 6, 1],\n",
    "  ], # 18\n",
    "  [\n",
    "    [1, 2, 8,  1],\n",
    "    [3, 1, 12, 10],\n",
    "    [4, 0, 6,  3],\n",
    "  ], # 36\n",
    "  [\n",
    "    [1, 2, 8, 1],\n",
    "    [3, 10, 12, 10],\n",
    "    [4, 0, 6, 3],\n",
    "  ], # 39\n",
    "  [\n",
    "    [1, 1, 3, 1, 1, 1, 1, 4, 1, 1, 1, 1, 1],\n",
    "    [1, 1, 1, 1, 1, 1, 1, 1, 1, 1, 1, 1, 1],\n",
    "    [1, 2, 1, 1, 6, 1, 1, 5, 1, 1, 0, 0, 1],\n",
    "    [1, 1, 1, 1, 1, 1, 1, 1, 1, 1, 1, 1, 1],\n",
    "    [1, 1, 1, 5, 1, 1, 1, 1, 0, 1, 1, 1, 1],\n",
    "    [2, 1, 1, 1, 1, 1, 1, 1, 1, 1, 1, 1, 1],\n",
    "    [2, 1, 1, 1, 1, 8, 1, 1, 1, 1, 1, 1, 1],\n",
    "    [2, 1, 3, 1, 1, 1, 1, 1, 1, 1, 1, 1, 1],\n",
    "    [1, 1, 1, 1, 1, 1, 1, 1, 1, 1, 1, 1, 1],\n",
    "    [1, 1, 1, 1, 1, 1, 1, 9, 1, 1, 1, 1, 1],\n",
    "    [1, 1, 1, 1, 1, 1, 1, 1, 1, 1, 1, 1, 1],\n",
    "    [1, 1, 1, 3, 1, 1, 1, 1, 1, 1, 1, 1, 1],\n",
    "    [1, 1, 1, 1, 1, 1, 1, 1, 1, 8, 1, 1, 1],\n",
    "    [1, 1, 1, 1, 1, 1, 1, 1, 1, 1, 1, 1, 1],\n",
    "    [1, 1, 1, 1, 1, 1, 1, 1, 1, 1, 1, 1, 1],\n",
    "    [1, 1, 1, 3, 1, 1, 1, 1, 1, 1, 1, 1, 1],\n",
    "    [1, 42, 1, 1, 1, 1, 1, 1, 1, 8, 1, 1, 1],\n",
    "    [1, 1, 1, 1, 1, 1, 1, 1, 1, 1, 1, 1, 1],\n",
    "    [1, 1, 1, 1, 1, 1, 1, 1, 1, 1, 1, 1, 1],\n",
    "  ] # 82\n",
    "]\n",
    "for grid in test_cases:\n",
    "  result = max_path_sum(grid)\n",
    "  print(f\"grid: {grid} => result: {result}\")"
   ]
  },
  {
   "cell_type": "markdown",
   "metadata": {},
   "source": [
    "### Non-adjacent sum\n",
    "\n",
    "Write a function, non_adjacent_sum, that takes in a list of numbers as an argument. The function should return the maximum sum of non-adjacent items in the list. There is no limit on how many items can be taken into the sum as long as they are not adjacent.\n",
    "\n",
    "For example, given: [2, 4, 5, 12, 7]\n",
    "\n",
    "The maximum non-adjacent sum is 16, because 4 + 12. 4 and 12 are not adjacent in the list."
   ]
  },
  {
   "cell_type": "code",
   "execution_count": 5,
   "metadata": {},
   "outputs": [
    {
     "name": "stdout",
     "output_type": "stream",
     "text": [
      "test_case: [2, 4, 5, 12, 7] => result: 16\n",
      "test_case: [7, 5, 5, 12] => result: 19\n",
      "test_case: [7, 5, 5, 12, 17, 29] => result: 48\n",
      "test_case: [72, 62, 10, 6, 20, 19, 42, 46, 24, 78, 30, 41, 75, 38, 23, 28, 66, 55, 12, 17, 9, 12, 3, 1, 19, 30, 50, 20] => result: 488\n",
      "test_case: [72, 62, 10, 6, 20, 19, 42, 46, 24, 78, 30, 41, 75, 38, 23, 28, 66, 55, 12, 17, 83, 80, 56, 68, 6, 22, 56, 96, 77, 98, 61, 20, 0, 76, 53, 74, 8, 22, 92, 37, 30, 41, 75, 38, 23, 28, 66, 55, 12, 17, 72, 62, 10, 6, 20, 19, 42, 46, 24, 78, 42] => result: 1465\n"
     ]
    }
   ],
   "source": [
    "from typing import List\n",
    "\n",
    "def non_adjacent_sum(nums: List[int]):\n",
    "  def _non_adjacent_sum(nums: List[int], i: int, memo):\n",
    "    if i >= len(nums):\n",
    "      return 0\n",
    "    \n",
    "    if i in memo:\n",
    "      return memo[i]\n",
    "    \n",
    "    first_sum = nums[i] + _non_adjacent_sum(nums, i + 2, memo)\n",
    "    second_sum = _non_adjacent_sum(nums, i + 1, memo)\n",
    "    memo[i] = max(first_sum, second_sum)\n",
    "    return memo[i]\n",
    "  return _non_adjacent_sum(nums, 0, {})\n",
    "\n",
    "test_cases = [\n",
    "  [2, 4, 5, 12, 7], # 16\n",
    "  [7, 5, 5, 12], # 19\n",
    "  [7, 5, 5, 12, 17, 29], # 48\n",
    "  [\n",
    "    72, 62, 10,  6, 20, 19, 42,\n",
    "    46, 24, 78, 30, 41, 75, 38,\n",
    "    23, 28, 66, 55, 12, 17, 9,\n",
    "    12, 3, 1, 19, 30, 50, 20\n",
    "  ], # 488\n",
    "  [\n",
    "    72, 62, 10,  6, 20, 19, 42, 46, 24, 78,\n",
    "    30, 41, 75, 38, 23, 28, 66, 55, 12, 17,\n",
    "    83, 80, 56, 68,  6, 22, 56, 96, 77, 98,\n",
    "    61, 20,  0, 76, 53, 74,  8, 22, 92, 37,\n",
    "    30, 41, 75, 38, 23, 28, 66, 55, 12, 17,\n",
    "    72, 62, 10,  6, 20, 19, 42, 46, 24, 78,\n",
    "    42\n",
    "  ] # 1465\n",
    "]\n",
    "\n",
    "for test_case in test_cases:\n",
    "  result = non_adjacent_sum(test_case)\n",
    "  print(f\"test_case: {test_case} => result: {result}\")"
   ]
  },
  {
   "cell_type": "markdown",
   "metadata": {},
   "source": [
    "### Alphanumeric Combinations (LeetCode #91)\n",
    "John is teaching his son Rob English alphabet and number counting. He represents 'a' as the 1st character, 'b' as the 2nd character up to 'z' as the 26th character. John says 'kite' can be represented as '119205'. The 11th character is 'k', 9th character is 'i', 20th character is 't' and 5th character is 'e'. Rob being smarter than him, says '119205' can also mean 'aaite' (1)(1)(9)(20)(5), 'aste'(1)(19)(20)(5), etc. <br>\n",
    "\n",
    "Now being enthusiastic about it, John wants to know given a string of length n containing digits from 0 to 9, how many such words are possible. \n",
    "\n",
    "#### Input Format\n",
    "You are given a string, S, containing characters from 0-9. You have to find how many such words are possible for that given number sequence. \n",
    "\n",
    "#### Constraints\n",
    "* The string will not begin with a '0'. <br>\n",
    "* 1 <= length(S) <= 250\n",
    "\n",
    "#### Sample Test Case\n",
    "S = \"2112\" <br>\n",
    "Output = 5\n",
    "##### Explanation\n",
    "\"2115\" can be broken up in 5 valid ways:\n",
    "1. (2)(11)(5)\n",
    "2. (2)(1)(15)\n",
    "3. (2)(1)(1)(5)\n",
    "4. (21)(1)(5)\n",
    "5. (21)(15)\n",
    "\n",
    "NOTE: Each split is > 0 and <= 26"
   ]
  },
  {
   "cell_type": "code",
   "execution_count": 1,
   "metadata": {},
   "outputs": [
    {
     "name": "stdout",
     "output_type": "stream",
     "text": [
      "result: 5\n",
      "355 μs ± 0 ns per loop (mean ± std. dev. of 1 run, 1 loop each)\n",
      "result: 3\n",
      "25 μs ± 0 ns per loop (mean ± std. dev. of 1 run, 1 loop each)\n"
     ]
    }
   ],
   "source": [
    "from typing import Dict\n",
    "\n",
    "def calculate_possible_combinations(s: str):\n",
    "  def _calculate_possible_combinations(s: str, i: int, memo: Dict[int, int]):\n",
    "    # Base case\n",
    "    n = len(s)\n",
    "    if i == n:\n",
    "      return 1\n",
    "    if s[i] == '0':\n",
    "      return 0 # sub string starting with 0 is not a valid encoding\n",
    "    if i in memo:\n",
    "      return memo[i]\n",
    "    res = _calculate_possible_combinations(s, i + 1, memo)\n",
    "    if i < n - 1 and (s[i] == '1' or (s[i] == '2' and s[i + 1] < '7')):\n",
    "      res += _calculate_possible_combinations(s, i + 2, memo)\n",
    "    memo[i] = res\n",
    "    return memo[i]\n",
    "  return 0 if len(s) == 0 else _calculate_possible_combinations(s, 0, {})\n",
    "\n",
    "test_cases = [\n",
    "  '2115',\n",
    "  '119205',\n",
    "]\n",
    "\n",
    "for test_case in test_cases:\n",
    "  %timeit -r 1 -n 1 print(f\"result: {calculate_possible_combinations(test_case)}\")"
   ]
  },
  {
   "cell_type": "markdown",
   "metadata": {},
   "source": [
    "## Summing squares\n",
    "\n",
    "Write a function, summingSquares, that takes a target number as an argument. The function should return the minimum number of perfect squares that sum to the target. A perfect square is a number of the form (i*i) where i >= 1.\n",
    "\n",
    "For example: 1, 4, 9, 16 are perfect squares, but 8 is not perfect square."
   ]
  },
  {
   "cell_type": "code",
   "execution_count": null,
   "metadata": {},
   "outputs": [
    {
     "data": {
      "text/plain": [
       "4"
      ]
     },
     "execution_count": 20,
     "metadata": {},
     "output_type": "execute_result"
    }
   ],
   "source": [
    "from typing import Dict\n",
    "\n",
    "def summingSquares(num: int) -> int:\n",
    "  # First generate the list of perfect squares\n",
    "  perfect_squares = []\n",
    "  start = 1\n",
    "  while start ** 2 <= num:\n",
    "    perfect_squares.append(start ** 2)\n",
    "    start += 1\n",
    "  \n",
    "  def _summingSquares(remaining_num: int, memo: Dict[int, int]):\n",
    "    if remaining_num == 0:\n",
    "      return 0\n",
    "    \n",
    "    if remaining_num in memo:\n",
    "      return memo[remaining_num]\n",
    "    \n",
    "    min_perfect_squares = float('inf')\n",
    "    for perfect_square in perfect_squares:\n",
    "      if perfect_square <= remaining_num:\n",
    "        result = 1 + _summingSquares(remaining_num - perfect_square, memo)\n",
    "        min_perfect_squares = min(min_perfect_squares, result)\n",
    "    memo[remaining_num] = min_perfect_squares\n",
    "    return min_perfect_squares\n",
    "  return _summingSquares(num, {})\n",
    "\n",
    "summingSquares(87)"
   ]
  },
  {
   "cell_type": "markdown",
   "metadata": {},
   "source": [
    "## Counting change\n",
    "\n",
    "Write a function, counting_change, that takes in an amount and a list of coins. The function should return the number of different ways it is possible to make change for the given amount using the coins.\n",
    "\n",
    "You may reuse a coin as many times as necessary."
   ]
  },
  {
   "cell_type": "code",
   "execution_count": null,
   "metadata": {},
   "outputs": [
    {
     "name": "stdout",
     "output_type": "stream",
     "text": [
      "(4, [1, 2, 3]); result: 4\n",
      "(8, [1, 2, 3]); result: 10\n",
      "(24, [5, 7, 3]); result: 5\n",
      "(13, [2, 6, 12, 10]); result: 0\n",
      "(512, [1, 5, 10, 25]); result: 20119\n",
      "(1000, [1, 5, 10, 25]); result: 142511\n",
      "(240, [1, 2, 3, 4, 5, 6, 7, 8, 9]); result: 1525987916\n"
     ]
    }
   ],
   "source": [
    "# This problem can also be interpreted as: \"How many ways can you count from 0 to n given a list of integers (or coins)\".\n",
    "\n",
    "def counting_change(n: int, coins: list[int]):\n",
    "  def _counting_change(n: int, i: int, coins: list[int], memo):\n",
    "    key = (n, i)\n",
    "    \n",
    "    if n == 0:\n",
    "      return 1\n",
    "    if key in memo:\n",
    "      return memo[key]\n",
    "\n",
    "    change_count = 0\n",
    "    # This pattern of starting from the curr index of coins ensures that we don't repeat solutions.\n",
    "    # For example, 1 + 1 + 2 and 1 + 2 + 1 = 4, but we only want one of them as a solution!\n",
    "    for i in range(i, len(coins)):\n",
    "      coin = coins[i]\n",
    "      if coin <= n:\n",
    "        change_count += _counting_change(n - coin, i, coins, memo)\n",
    "    \n",
    "    # NOTE: Be careful to use both n and i as a key in the memo hash table. Otherwise, you'll get weird results! \n",
    "    # Remember, we memoize the parameters of the recursive function that get updated between recursive calls.\n",
    "    memo[key] = change_count\n",
    "    return change_count\n",
    "  return _counting_change(n, 0, coins, {})\n",
    "\n",
    "test_cases = [\n",
    "  (4, [1, 2, 3]), # 4\n",
    "  (8, [1, 2, 3]), # 10\n",
    "  (24, [5, 7, 3]), # 5\n",
    "  (13, [2, 6, 12, 10]), # 0\n",
    "  (512, [1, 5, 10, 25]), # 20119\n",
    "  (1000, [1, 5, 10, 25]), # 142511\n",
    "  (240, [1, 2, 3, 4, 5, 6, 7, 8, 9]) # 1525987916\n",
    "]\n",
    "for n, coins in test_cases:\n",
    "  print(f'({n}, {coins}); result: {counting_change(n, coins)}')"
   ]
  },
  {
   "cell_type": "markdown",
   "metadata": {},
   "source": [
    "## Array stepper\n",
    "\n",
    "Write a function, array_stepper, that takes in a list of numbers as an argument. You start at the first position of the list. The function should return a boolean indicating whether or not it is possible to reach the last position of the list. When situated at some position of the list, you may take a maximum number of steps based on the number at that position.\n",
    "\n",
    "For example, given:\n",
    "\n",
    "    idx =  0  1  2  3  4  5\n",
    "numbers = [2, 4, 2, 0, 0, 1]\n",
    "\n",
    "The answer is True.\n",
    "We start at idx 0, we could take 1 step or 2 steps forward.\n",
    "The correct choice is to take 1 step to idx 1.\n",
    "Then take 4 steps forward to the end at idx 5."
   ]
  },
  {
   "cell_type": "code",
   "execution_count": null,
   "metadata": {},
   "outputs": [
    {
     "name": "stdout",
     "output_type": "stream",
     "text": [
      "test_case: [2, 4, 2, 0, 0, 1] => result: True\n",
      "test_case: [2, 3, 2, 0, 0, 1] => result: False\n",
      "test_case: [3, 1, 3, 1, 0, 1] => result: True\n",
      "test_case: [4, 1, 5, 1, 1, 1, 0, 4] => result: True\n",
      "test_case: [4, 1, 2, 1, 1, 1, 0, 4] => result: False\n",
      "test_case: [1, 1, 1, 1, 1, 0] => result: True\n",
      "test_case: [1, 1, 1, 1, 0, 0] => result: False\n",
      "test_case: [31, 30, 29, 28, 27, 26, 25, 24, 23, 22, 21, 20, 19, 18, 17, 16, 15, 14, 13, 12, 11, 10, 9, 8, 7, 6, 5, 3, 2, 1, 0, 0, 0] => result: False\n"
     ]
    }
   ],
   "source": [
    "def array_stepper(steps: list[int]):\n",
    "  last_pos = len(steps) - 1\n",
    "  def _array_stepper(steps: list[int], pos: int, memo):\n",
    "    # Base case is when we make it to the last position/index\n",
    "    if pos == last_pos:\n",
    "      return True\n",
    "    \n",
    "    if pos in memo:\n",
    "      return memo[pos]\n",
    "\n",
    "    for i in range(1, steps[pos] + 1): # add 1 to include the max steps at pos\n",
    "      new_pos = pos + i\n",
    "      if new_pos <= last_pos:\n",
    "        result = _array_stepper(steps, new_pos, memo)\n",
    "        memo[pos] = result\n",
    "        if result == True:\n",
    "          return True\n",
    "    memo[pos] = False\n",
    "    return False\n",
    "  return _array_stepper(steps, 0, dict())\n",
    "\n",
    "test_cases = [\n",
    "  [2, 4, 2, 0, 0, 1], # True\n",
    "  [2, 3, 2, 0, 0, 1], # False\n",
    "  [3, 1, 3, 1, 0, 1], # True\n",
    "  [4, 1, 5, 1, 1, 1, 0, 4], # True\n",
    "  [4, 1, 2, 1, 1, 1, 0, 4], # False\n",
    "  [1, 1, 1, 1, 1, 0], # True\n",
    "  [1, 1, 1, 1, 0, 0], # False\n",
    "  [ \n",
    "    31, 30, 29, 28, 27,\n",
    "    26, 25, 24, 23, 22,\n",
    "    21, 20, 19, 18, 17,\n",
    "    16, 15, 14, 13, 12,\n",
    "    11, 10, 9, 8, 7, 6,\n",
    "    5, 3, 2, 1, 0, 0, 0\n",
    "  ] # False\n",
    "]\n",
    "\n",
    "for test_case in test_cases:\n",
    "  print(f\"test_case: {test_case} => result: {array_stepper(test_case)}\")"
   ]
  },
  {
   "cell_type": "markdown",
   "metadata": {},
   "source": [
    "## Max Palindromic Subsequence\n",
    "\n",
    "Write a function, max_palin_subsequence, that takes in a string as an argument. The function should return the length of the longest subsequence of the string that is also a palindrome.\n",
    "\n",
    "A subsequence of a string can be created by deleting any characters of the string, while maintaining the relative order of characters."
   ]
  },
  {
   "cell_type": "code",
   "execution_count": null,
   "metadata": {},
   "outputs": [
    {
     "name": "stdout",
     "output_type": "stream",
     "text": [
      "test_case: luwxult => result: 5\n",
      "test_case: sosd => result: 3\n",
      "test_case: lol => result: 3\n",
      "test_case: boabcdefop => result: 3\n",
      "test_case: z => result: 1\n",
      "test_case: chartreusepugvicefree => result: 7\n",
      "test_case: qwueoiuahsdjnweuueueunasdnmnqweuzqwerty => result: 15\n",
      "test_case: enamelpinportlandtildecoldpressedironyflannelsemioticsedisonbulbfashionaxe => result: 31\n"
     ]
    }
   ],
   "source": [
    "def max_palin_subsequence(s: str) -> int:\n",
    "  def _max_palin_subsequence(s: str, l: int, r: int, memo):\n",
    "    subseq_len = (r - l) + 1\n",
    "    key = (l, r)\n",
    "    # Base case\n",
    "    if subseq_len == 0 or subseq_len == 1:\n",
    "      return subseq_len\n",
    "\n",
    "    if key in memo:\n",
    "      return memo[key]\n",
    "\n",
    "    max_length = 0\n",
    "    # If the left and right pointers are equal, then shrink the subseq at both ends\n",
    "    if s[l] == s[r]:\n",
    "      max_length = 2 + _max_palin_subsequence(s, l + 1, r - 1, memo)\n",
    "    else:\n",
    "      # Else, shrink the subseq at either ends\n",
    "      subseq_with_l = _max_palin_subsequence(s, l, r - 1, memo)\n",
    "      subseq_with_r = _max_palin_subsequence(s, l + 1, r, memo)\n",
    "      max_length = max(subseq_with_l, subseq_with_r)\n",
    "    memo[key] = max_length\n",
    "    return max_length\n",
    "  return _max_palin_subsequence(s, 0, len(s) - 1, {})\n",
    "\n",
    "test_cases = [\n",
    "  \"luwxult\", # 5\n",
    "  \"sosd\", # 3\n",
    "  \"lol\", # 3\n",
    "  \"boabcdefop\", # 3,\n",
    "  \"z\", # 1\n",
    "  \"chartreusepugvicefree\", # 7\n",
    "  \"qwueoiuahsdjnweuueueunasdnmnqweuzqwerty\", # 15\n",
    "  \"enamelpinportlandtildecoldpressedironyflannelsemioticsedisonbulbfashionaxe\" # 31\n",
    "]\n",
    "\n",
    "for test_case in test_cases:\n",
    "  print(f\"test_case: {test_case} => result: {max_palin_subsequence(test_case)}\")"
   ]
  }
 ],
 "metadata": {
  "kernelspec": {
   "display_name": "Python 3",
   "language": "python",
   "name": "python3"
  },
  "language_info": {
   "codemirror_mode": {
    "name": "ipython",
    "version": 3
   },
   "file_extension": ".py",
   "mimetype": "text/x-python",
   "name": "python",
   "nbconvert_exporter": "python",
   "pygments_lexer": "ipython3",
   "version": "3.10.7"
  }
 },
 "nbformat": 4,
 "nbformat_minor": 2
}
