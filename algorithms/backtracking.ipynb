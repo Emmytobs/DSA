{
 "cells": [
  {
   "cell_type": "markdown",
   "metadata": {},
   "source": [
    "Look at Combination Sum 1 and 2 in leetcode solutions"
   ]
  },
  {
   "cell_type": "markdown",
   "metadata": {},
   "source": [
    "## [Summing squares (backtracking version)](https://structy.net/problems/summing-squares)\n",
    "\n",
    "Write a function, summingSquares, that takes a target number as an argument. The function should return a list containing the minimum number of perfect squares that sum to the target. A perfect square is a number of the form (i*i) where i >= 1.\n",
    "\n",
    "For example: 1, 4, 9, 16 are perfect squares, but 8 is not perfect square."
   ]
  },
  {
   "cell_type": "code",
   "execution_count": 10,
   "metadata": {},
   "outputs": [
    {
     "data": {
      "text/plain": [
       "[4, 4, 4]"
      ]
     },
     "execution_count": 10,
     "metadata": {},
     "output_type": "execute_result"
    }
   ],
   "source": [
    "def summingSquares(num: int) -> int:\n",
    "  # First generate the list of perfect squares\n",
    "  perfect_squares = []\n",
    "  start = 1\n",
    "  while start ** 2 <= num:\n",
    "    perfect_squares.append(start ** 2)\n",
    "    start += 1\n",
    "  \n",
    "  output = []\n",
    "  def backtrack(squares: list[int], curr_index: int, remaining_num: int):\n",
    "    nonlocal output\n",
    "    if remaining_num == 0:\n",
    "        _squares = [*squares]\n",
    "        if len(_squares) < len(output) or not output:\n",
    "          output = _squares\n",
    "    for i in range(curr_index, len(perfect_squares)):\n",
    "      perfect_square = perfect_squares[i]\n",
    "      if perfect_square <= remaining_num:\n",
    "        squares.append(perfect_square)\n",
    "        backtrack(squares, i, remaining_num - perfect_square)\n",
    "        squares.pop()\n",
    "  backtrack([], 0, num)\n",
    "  return output\n",
    "\n",
    "summingSquares(12)"
   ]
  }
 ],
 "metadata": {
  "kernelspec": {
   "display_name": "Python 3",
   "language": "python",
   "name": "python3"
  },
  "language_info": {
   "codemirror_mode": {
    "name": "ipython",
    "version": 3
   },
   "file_extension": ".py",
   "mimetype": "text/x-python",
   "name": "python",
   "nbconvert_exporter": "python",
   "pygments_lexer": "ipython3",
   "version": "3.10.7"
  }
 },
 "nbformat": 4,
 "nbformat_minor": 2
}
