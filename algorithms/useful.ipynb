{
 "cells": [
  {
   "cell_type": "code",
   "execution_count": null,
   "metadata": {},
   "outputs": [
    {
     "data": {
      "text/plain": [
       "''"
      ]
     },
     "execution_count": 1,
     "metadata": {},
     "output_type": "execute_result"
    }
   ],
   "source": [
    "\"\"\"\n",
    "A hash set has constant-time lookups because it's implemented as a hash table data structure, just like a hash map\n",
    "\"\"\"\n",
    "hashset = set([1,2,3,4])\n",
    "print(4 in hashset) # runs in 0(1) time"
   ]
  },
  {
   "cell_type": "code",
   "execution_count": null,
   "metadata": {},
   "outputs": [],
   "source": [
    "\"\"\"\n",
    "When inserting to an array at a position other than the end of the array, it's a linear time operation\n",
    "\"\"\"\n",
    "\n",
    "arr = [1,2,3,4,5,6]\n",
    "def append_zeros():\n",
    "  for _ in range(3):\n",
    "    arr.append(0) # Each append operation runs in constant time\n",
    "\n",
    "def insert_zeros_at_index(index=0):\n",
    "  if index >= len(arr):\n",
    "    raise IndexError(\"Index value is out of range\")\n",
    "  for _ in range(3):\n",
    "    arr.insert(index, 0) # Each insert operation runs in linear time. This is because the elements to the left and right of the index have to be shifted to insert a new element between them"
   ]
  }
 ],
 "metadata": {
  "kernelspec": {
   "display_name": "Python 3",
   "language": "python",
   "name": "python3"
  },
  "language_info": {
   "codemirror_mode": {
    "name": "ipython",
    "version": 3
   },
   "file_extension": ".py",
   "mimetype": "text/x-python",
   "name": "python",
   "nbconvert_exporter": "python",
   "pygments_lexer": "ipython3",
   "version": "3.10.7"
  }
 },
 "nbformat": 4,
 "nbformat_minor": 2
}
