{
 "cells": [
  {
   "cell_type": "code",
   "execution_count": null,
   "metadata": {},
   "outputs": [],
   "source": [
    "\"\"\"\n",
    "Problems:\n",
    "#1712: https://leetcode.com/problems/ways-to-split-array-into-three-subarrays/description/?envType=company&envId=robinhood&favoriteSlug=robinhood-all\n",
    "Your Amazon SWE intern OA question 1\n",
    "\"\"\""
   ]
  }
 ],
 "metadata": {
  "kernelspec": {
   "display_name": "Python 3",
   "language": "python",
   "name": "python3"
  },
  "language_info": {
   "name": "python",
   "version": "3.10.7"
  }
 },
 "nbformat": 4,
 "nbformat_minor": 2
}
