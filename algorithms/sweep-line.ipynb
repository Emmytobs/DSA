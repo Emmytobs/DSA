{
 "cells": [
  {
   "cell_type": "code",
   "execution_count": null,
   "metadata": {},
   "outputs": [],
   "source": [
    "\"\"\"\n",
    "Given a list of intervals [i, j], where i < j, find the maximum number of overlapping intervals\n",
    "\n",
    "Strategy:\n",
    "\n",
    "1. Sort the intervals in ascending order of i\n",
    "2. Initialize a heap to store the interval endings; i.e. the j for each interval\n",
    "3. Iterate/sweep through the sorted intervals\n",
    "  a. If the current interval starts after the earliest interval in the heap ends, remove the earliest interval from the heap\n",
    "  b. At each iteration, add the current ending for the interval\n",
    "\"\"\""
   ]
  },
  {
   "cell_type": "code",
   "execution_count": null,
   "metadata": {},
   "outputs": [
    {
     "data": {
      "text/plain": [
       "3"
      ]
     },
     "execution_count": 1,
     "metadata": {},
     "output_type": "execute_result"
    }
   ],
   "source": [
    "\"\"\" \n",
    "Problems:\n",
    "2406. Divide Intervals Into Minimum Number of Groups\n",
    "\"\"\"\n",
    "\n",
    "import heapq\n",
    "\n",
    "intervals = [[5,10],[6,8],[1,5],[2,3],[1,10]]\n",
    "intervals.sort(key=lambda x: x[0])\n",
    "endTimes = []\n",
    "for interval in intervals:\n",
    "    # If the priority queue is not empty and the earliest end time is less than the current start time\n",
    "    if endTimes and endTimes[0] < interval[0]:\n",
    "        \n",
    "        # Remove the earliest end time from the priority queue\n",
    "        heapq.heappop(endTimes)\n",
    "    \n",
    "    # Add the current interval's end time to the priority queue\n",
    "    heapq.heappush(endTimes, interval[1])\n",
    "\n",
    "# The size of the priority queue represents the minimum number of groups needed\n",
    "len(endTimes)"
   ]
  },
  {
   "cell_type": "code",
   "execution_count": null,
   "metadata": {},
   "outputs": [],
   "source": [
    "# Line Sweep Technique Without a Heap (two-pointer approach)\n",
    "\n",
    "intervals = [[5,10],[6,8],[1,5],[2,3],[1,10]]\n",
    "\n",
    "startTimes = []\n",
    "endTimes = []\n",
    "for start, end in intervals:\n",
    "    startTimes.append(start)\n",
    "    endTimes.append(end)\n",
    "\n",
    "startTimes.sort()\n",
    "endTimes.sort()\n",
    "\n",
    "s = e = 0 # start and end time index pointers\n",
    "curr_groups = max_groups = 0\n",
    "\n",
    "while s < len(intervals):\n",
    "    if startTimes[s] <= endTimes[e]:\n",
    "        curr_groups += 1\n",
    "        s += 1\n",
    "    else:\n",
    "        curr_groups -= 1\n",
    "        e += 1\n",
    "    max_groups = max(max_groups, curr_groups)\n",
    "max_groups"
   ]
  }
 ],
 "metadata": {
  "kernelspec": {
   "display_name": "Python 3",
   "language": "python",
   "name": "python3"
  },
  "language_info": {
   "codemirror_mode": {
    "name": "ipython",
    "version": 3
   },
   "file_extension": ".py",
   "mimetype": "text/x-python",
   "name": "python",
   "nbconvert_exporter": "python",
   "pygments_lexer": "ipython3",
   "version": "3.10.7"
  }
 },
 "nbformat": 4,
 "nbformat_minor": 2
}
