{
 "cells": [
  {
   "cell_type": "code",
   "execution_count": null,
   "metadata": {},
   "outputs": [],
   "source": [
    "\"\"\"\n",
    "  Heaps & Priority Queues in Python can be implemented using the heapq module.\n",
    "  Important note: The heapq module implements a min-heap by default. You can convert it to a max heap by adding the negative of the values, as shown in later code blocks.\n",
    "\"\"\"\n",
    "import heapq\n",
    "\n",
    "values = [5, 7, 9, 4, 3]\n",
    "heapq.heapify(values) # converts the list to a heap"
   ]
  },
  {
   "cell_type": "code",
   "execution_count": 2,
   "metadata": {},
   "outputs": [
    {
     "name": "stdout",
     "output_type": "stream",
     "text": [
      "2\n"
     ]
    }
   ],
   "source": [
    "# Adding to and removing values from a heap (Method 1)\n",
    "\n",
    "heapq.heappush(values, 2)\n",
    "res = heapq.heappop(values) # gives 2, because 2 is the smallest element in the heap\n",
    "print(res)"
   ]
  },
  {
   "cell_type": "code",
   "execution_count": 5,
   "metadata": {},
   "outputs": [
    {
     "name": "stdout",
     "output_type": "stream",
     "text": [
      "2\n"
     ]
    }
   ],
   "source": [
    "# Adding to and removing values from a heap (Method 2)\n",
    "\n",
    "# Note: heappushpop() pushes first, then it pops the min value\n",
    "res = heapq.heappushpop(values, 2) # gives 2, because 2 is the smallest element in the heap\n",
    "print(res)"
   ]
  },
  {
   "cell_type": "code",
   "execution_count": 6,
   "metadata": {},
   "outputs": [
    {
     "name": "stdout",
     "output_type": "stream",
     "text": [
      "3\n"
     ]
    }
   ],
   "source": [
    "# Adding to and removing values from a heap (Method 3)\n",
    "\n",
    "res = heapq.heapreplace(values, 2) # gives 3, because heapreplace() pops first, then it pushes 2.\n",
    "print(res)"
   ]
  },
  {
   "cell_type": "code",
   "execution_count": 12,
   "metadata": {},
   "outputs": [
    {
     "name": "stdout",
     "output_type": "stream",
     "text": [
      "Negative values [-3, -4, -9, -5, -7]\n",
      "max_value 9\n"
     ]
    }
   ],
   "source": [
    "# Using a max heap\n",
    "\n",
    "\"\"\"\n",
    "To use a max heap, you can use the negative of the values passed into the heap.\n",
    "\"\"\"\n",
    "negative_values = list(map(lambda x: -x, values))\n",
    "print(\"Negative values\", negative_values)\n",
    "heapq.heapify(negative_values)\n",
    "max_value = -(heapq.heappop(negative_values)) # convert the negative number back to a positive number\n",
    "print(\"max_value\", max_value)"
   ]
  },
  {
   "cell_type": "code",
   "execution_count": 14,
   "metadata": {},
   "outputs": [
    {
     "name": "stdout",
     "output_type": "stream",
     "text": [
      "Frequency of each num:  {1: 3, 2: 2, 3: 1}\n",
      "Num with lowest frequency:  3\n"
     ]
    }
   ],
   "source": [
    "# Storing more than just numbers in the heap\n",
    "\n",
    "\"\"\"\n",
    "  You can use a tuple to group multiple values in a heap. The first element of the tuple will be the priority value.\n",
    "\"\"\"\n",
    "\n",
    "values = [1,1,1,2,2,3]\n",
    "counter = {} \n",
    "for val in values:\n",
    "  counter[val] = 1 + counter.get(val, 0)\n",
    "print(\"Frequency of each num: \", counter)\n",
    "\n",
    "heap_data = []\n",
    "for val, freq in counter.items():\n",
    "  heapq.heappush(heap_data, (freq, val)) # \"freq\" here will serve as the priority value\n",
    "\n",
    "# Get the num with the lowest occurence\n",
    "res = heapq.heappop(heap_data)\n",
    "print(\"Num with lowest frequency: \", res[1])\n",
    "\n",
    "# Note, this is an actual LC problem: https://leetcode.com/problems/top-k-frequent-elements/"
   ]
  },
  {
   "cell_type": "code",
   "execution_count": 16,
   "metadata": {},
   "outputs": [
    {
     "name": "stdout",
     "output_type": "stream",
     "text": [
      "two_largest_values [9, 7]\n",
      "two_smallest_values [3, 4]\n"
     ]
    }
   ],
   "source": [
    "# n largest and n smallest values\n",
    "two_largest_values = heapq.nlargest(2, values) # 2 largest values\n",
    "two_smallest_values = heapq.nsmallest(2, values) # 2 smallest values\n",
    "\n",
    "print(\"two_largest_values\", two_largest_values)\n",
    "print(\"two_smallest_values\", two_smallest_values)\n"
   ]
  },
  {
   "cell_type": "code",
   "execution_count": null,
   "metadata": {},
   "outputs": [
    {
     "name": "stdout",
     "output_type": "stream",
     "text": [
      "999999984\n"
     ]
    }
   ],
   "source": [
    "# import re\n",
    "# paragraph = \"..Bob hit a ball, the hit BALL flew far after it was hit.\"\n",
    "# # paragraph = re.sub(r'(\\!|\\?|\\,|\\.|\\;|\\')', \" \", paragraph) # !?',;.\n",
    "# # paragraph = re.sub(r'\\W+', \" \", paragraph) # !?',;.\n",
    "# # print(paragraph)\n",
    "# words = re.split(r'\\W+', paragraph)\n",
    "# print(words)\n",
    " \n",
    "# Amazon OA Q1\n",
    "# from collections import Counter\n",
    "# def solveSimplified(text):\n",
    "#   counter = Counter(text)\n",
    "#   values = sorted(list(counter.values()), reverse = True)\n",
    "#   print(\"values\", values)\n",
    "#   res = 0\n",
    "#   for i in range(len(values)):\n",
    "#     res += (i//9 + 1)*values[i]\n",
    "#   return res\n",
    "# print(solveSimplified(\"abacadefghibj\"))\n",
    "# print(solveSimplified(\"hello\"))\n",
    "\n",
    "# Amazon OA Q2\n",
    "# from typing import List\n",
    "# import math\n",
    "\n",
    "# class Solution:\n",
    "#   def getMaximumGreyness(self, pixels: List[List[int]]):\n",
    "#     ROWS = len(pixels)\n",
    "#     COLS = len(pixels[0])\n",
    "\n",
    "#     r = c = 0\n",
    "\n",
    "#     max_1s_in_row = 0\n",
    "#     max_1s_in_col = 0\n",
    "\n",
    "#     min_0s_in_row = math.inf\n",
    "#     min_0s_in_col = math.inf\n",
    "\n",
    "#     for r in ROWS:\n",
    "#       _0s_in_row = 0\n",
    "#       _1s_in_row = 0\n",
    "#       for c in COLS:\n",
    "#         if pixels[r][c] == 0:\n",
    "#           _0s_in_row += 1\n",
    "#         else:\n",
    "#           _1s_in_row += 1\n",
    "#       max_1s_in_row = max(_1s_in_row, max_1s_in_row)\n",
    "#       min_0s_in_row = min(_0s_in_row, min_0s_in_row)\n",
    "    \n",
    "#     for c in COLS:\n",
    "#       _0s_in_col = 0\n",
    "#       _1s_in_col = 0\n",
    "#       for r in ROWS:\n",
    "#         if pixels[r][c] == 0:\n",
    "#           _0s_in_col += 1\n",
    "#         else:\n",
    "#           _1s_in_col += 1\n",
    "#       max_1s_in_col = max(_1s_in_col, max_1s_in_col)\n",
    "#       min_0s_in_col = min(_0s_in_col, min_0s_in_col)\n",
    "\n",
    "#     return (max_1s_in_row + max_1s_in_col) - (min_0s_in_row + min_0s_in_col)"
   ]
  }
 ],
 "metadata": {
  "kernelspec": {
   "display_name": "Python 3",
   "language": "python",
   "name": "python3"
  },
  "language_info": {
   "codemirror_mode": {
    "name": "ipython",
    "version": 3
   },
   "file_extension": ".py",
   "mimetype": "text/x-python",
   "name": "python",
   "nbconvert_exporter": "python",
   "pygments_lexer": "ipython3",
   "version": "3.10.7"
  }
 },
 "nbformat": 4,
 "nbformat_minor": 2
}
